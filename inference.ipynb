{
 "cells": [
  {
   "cell_type": "markdown",
   "metadata": {},
   "source": [
    "# LoRACLR Inference Notebook"
   ]
  },
  {
   "cell_type": "markdown",
   "metadata": {},
   "source": [
    "## Imports & Constants"
   ]
  },
  {
   "cell_type": "code",
   "execution_count": null,
   "metadata": {},
   "outputs": [],
   "source": [
    "import os\n",
    "import json\n",
    "import torch\n",
    "\n",
    "from PIL import Image\n",
    "\n",
    "from regionally_controlable_sampling import build_model, prepare_text, sample_image"
   ]
  },
  {
   "cell_type": "code",
   "execution_count": null,
   "metadata": {},
   "outputs": [],
   "source": [
    "DEVICE = \"cuda\"\n",
    "CONFIG_FILE = \"elsa+moana\"\n",
    "PRETRAINED_MODEL = f\"experiments/multi-concepts/{CONFIG_FILE}/combined_model_base\"\n",
    "\n",
    "\n",
    "SUBJECTS = CONFIG_FILE.split(\"+\")\n",
    "TOKs = [f'<{subject}1> <{subject}2>' for subject in SUBJECTS] \n",
    "\n",
    "POSES = {}\n",
    "with open(\"multi-concept/pose_data/pose.json\") as f:\n",
    "    POSES = json.load(f)"
   ]
  },
  {
   "cell_type": "code",
   "execution_count": null,
   "metadata": {},
   "outputs": [],
   "source": [
    "SEED = 6262\n",
    "\n",
    "POSE = POSES[0]\n",
    "REGION1 = POSE[\"region1\"]\n",
    "REGION2 = POSE[\"region2\"]\n",
    "KEYPOSE_CONDITION = POSE[\"img_dir\"]\n",
    "KEYPOSE_ADAPTOR_WEIGHT = 1.0\n",
    "\n",
    "CONTEXT_PROMPT = \"in a forest, standing\"\n",
    "CONTEXT_PROMPT += \", 4K, high quality, high resolution, best quality\"\n",
    "\n",
    "NEGATIVE_PROMPT = 'longbody, lowres, bad anatomy, bad hands, missing fingers, extra digit, fewer digits, cropped, worst quality, low quality'\n",
    "\n",
    "REGION1_PROMPT = f\"{TOKs[0]}, {CONTEXT_PROMPT}\"\n",
    "REGION2_PROMPT = f\"{TOKs[1]}, {CONTEXT_PROMPT}\"\n",
    "\n",
    "CONTEXT_PROMPT = \"Two people, \" + CONTEXT_PROMPT\n",
    "PROMPT_REWRITE = f\"{REGION1_PROMPT}-*-{NEGATIVE_PROMPT}-*-{REGION1}|{REGION2_PROMPT}-*-{NEGATIVE_PROMPT}-*-{REGION2}\""
   ]
  },
  {
   "cell_type": "code",
   "execution_count": null,
   "metadata": {},
   "outputs": [],
   "source": [
    "def infer(\n",
    "    pipe,\n",
    "    prompt,\n",
    "    prompt_rewrite,\n",
    "    negative_prompt=\"\",\n",
    "    seed=16141,\n",
    "    keypose_condition=None,\n",
    "    keypose_adaptor_weight=1.0,\n",
    "    sketch_condition=None,\n",
    "    sketch_adaptor_weight=0.0,\n",
    "    region_sketch_adaptor_weight=\"\",\n",
    "    region_keypose_adaptor_weight=\"\",\n",
    "):\n",
    "    if sketch_condition is not None and os.path.exists(sketch_condition):\n",
    "        sketch_condition = Image.open(sketch_condition).convert(\"L\")\n",
    "        width_sketch, height_sketch = sketch_condition.size\n",
    "        print(\"use sketch condition\")\n",
    "    else:\n",
    "        sketch_condition, width_sketch, height_sketch = None, 0, 0\n",
    "        print(\"skip sketch condition\")\n",
    "\n",
    "    if keypose_condition is not None and os.path.exists(keypose_condition):\n",
    "        keypose_condition = Image.open(keypose_condition).convert(\"RGB\")\n",
    "        width_pose, height_pose = keypose_condition.size\n",
    "        print(\"use pose condition\")\n",
    "    else:\n",
    "        keypose_condition, width_pose, height_pose = None, 0, 0\n",
    "        print(\"skip pose condition\")\n",
    "\n",
    "    if width_sketch != 0 and width_pose != 0:\n",
    "        assert (\n",
    "            width_sketch == width_pose and height_sketch == height_pose\n",
    "        ), \"conditions should be same size\"\n",
    "    width, height = max(width_pose, width_sketch), max(height_pose, height_sketch)\n",
    "    kwargs = {\n",
    "        \"sketch_condition\": sketch_condition,\n",
    "        \"keypose_condition\": keypose_condition,\n",
    "        \"height\": height,\n",
    "        \"width\": width,\n",
    "    }\n",
    "\n",
    "    prompts = [prompt]\n",
    "    prompts_rewrite = [prompt_rewrite]\n",
    "    input_prompt = [\n",
    "        prepare_text(p, p_w, height, width) for p, p_w in zip(prompts, prompts_rewrite)\n",
    "    ]\n",
    "    save_prompt = input_prompt[0][0]\n",
    "    print(save_prompt)\n",
    "\n",
    "    image = sample_image(\n",
    "        pipe,\n",
    "        input_prompt=input_prompt,\n",
    "        input_neg_prompt=[negative_prompt] * len(input_prompt),\n",
    "        generator=torch.Generator(DEVICE).manual_seed(seed),\n",
    "        guidance_scale=8.5,\n",
    "        sketch_adaptor_weight=sketch_adaptor_weight,\n",
    "        region_sketch_adaptor_weight=region_sketch_adaptor_weight,\n",
    "        keypose_adaptor_weight=keypose_adaptor_weight,\n",
    "        region_keypose_adaptor_weight=region_keypose_adaptor_weight,\n",
    "        **kwargs,\n",
    "    )\n",
    "\n",
    "    return image[0]"
   ]
  },
  {
   "cell_type": "markdown",
   "metadata": {},
   "source": [
    "## Model Build"
   ]
  },
  {
   "cell_type": "code",
   "execution_count": null,
   "metadata": {},
   "outputs": [],
   "source": [
    "pipe = build_model(PRETRAINED_MODEL, DEVICE)"
   ]
  },
  {
   "cell_type": "code",
   "execution_count": null,
   "metadata": {},
   "outputs": [],
   "source": [
    "image = infer(\n",
    "    pipe,\n",
    "    CONTEXT_PROMPT,\n",
    "    PROMPT_REWRITE,\n",
    "    NEGATIVE_PROMPT,\n",
    "    SEED,\n",
    "    KEYPOSE_CONDITION,\n",
    "    KEYPOSE_ADAPTOR_WEIGHT,\n",
    ")\n",
    "\n",
    "image"
   ]
  }
 ],
 "metadata": {
  "kernelspec": {
   "display_name": "lclr-env",
   "language": "python",
   "name": "python3"
  },
  "language_info": {
   "codemirror_mode": {
    "name": "ipython",
    "version": 3
   },
   "file_extension": ".py",
   "mimetype": "text/x-python",
   "name": "python",
   "nbconvert_exporter": "python",
   "pygments_lexer": "ipython3",
   "version": "3.10.18"
  }
 },
 "nbformat": 4,
 "nbformat_minor": 2
}
